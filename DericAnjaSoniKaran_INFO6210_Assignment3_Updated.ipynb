{
 "cells": [
  {
   "cell_type": "markdown",
   "metadata": {},
   "source": [
    "# Assignement 3: Convert a SQL database to NoSQL and Social Media"
   ]
  },
  {
   "cell_type": "markdown",
   "metadata": {},
   "source": [
    "#### Anja Deric and Karan Soni"
   ]
  },
  {
   "cell_type": "markdown",
   "metadata": {},
   "source": [
    "### ABSTRACT\n",
    "\n",
    "For this assignment, we worked on collecting data from social media(Twitter) to complement our already existing data on flights, airports and airlines. Additionally, we also converted our previous database to NoSQL by connecting to a MongoDB server. Fr the first part of the assignment, we used the Twitter API to collect data on various topics related to our domain, including tweets about American Airlines (thing), Logan Airport (place), and pilots (people). We used Python to analyze this tweet data and determine what tags were most popular and trending within our domain. For the second half of the assignment, we imported our old data from Assignments 1 and 2, and along with our newly-collected twitter data, we converted everything into a NoSQL database. By connecting to a MongoDB server, we were also able to test and make sure some of database usecases worked and could provide information requested by the user.\n"
   ]
  },
  {
   "cell_type": "markdown",
   "metadata": {},
   "source": [
    "### Aim: To convert the SQL database to NoSQL, and perform various operations on them to get the trends of users in social media."
   ]
  },
  {
   "cell_type": "markdown",
   "metadata": {},
   "source": [
    "### Collecting Social Media Data\n",
    "\n",
    "To start the assignment, we first imported all libraries that we would be using throughout:"
   ]
  },
  {
   "cell_type": "code",
   "execution_count": 1,
   "metadata": {},
   "outputs": [],
   "source": [
    "import csv\n",
    "import json\n",
    "import pandas as pd\n",
    "import tweepy\n",
    "import re\n",
    "import numpy as np\n",
    "import pandas as pd\n",
    "import collections\n",
    "import matplotlib\n",
    "import matplotlib.pyplot as plt"
   ]
  },
  {
   "cell_type": "markdown",
   "metadata": {},
   "source": [
    "We then made a twitter developer account and used our keys and tokens to establish a connection with the Twitter API."
   ]
  },
  {
   "cell_type": "code",
   "execution_count": 2,
   "metadata": {},
   "outputs": [],
   "source": [
    "# API keys and tokens\n",
    "consumer_key = \"mGtIt09UVXyzyW5LMBx6YKSIg\"  \n",
    "consumer_secret = \"DCi2axya3I6iRdxLvnNzPbInscCA7oquTaZKJqSK2WOCDriwjp\"  \n",
    "access_token = \"1238579197867524096-EhwxltGCsYmzWsDYoW9JsIqT3Yghck\"  \n",
    "access_token_secret = \"2EBkSz2GRrC8w0tdpPxKEVGC4swpAQsDDoNkUMbKresIg\"\n",
    "\n",
    "# Establish connection with twitter API using developer keys\n",
    "auth = tweepy.OAuthHandler(consumer_key, consumer_secret)  \n",
    "auth.set_access_token(access_token, access_token_secret)  \n",
    "api = tweepy.API(auth, wait_on_rate_limit=True)"
   ]
  },
  {
   "cell_type": "markdown",
   "metadata": {},
   "source": [
    "Next, we wrote a function to collect 100 tweets (combination of most popular and most recent tweets) by making an API request using the Cursor function from the tweepy library. The function works by searching for tweets that have a specific search term in them, which the user can decide on. Each tweet is then stored in a dictionary (we collected information such as the username, tweet test, number of retweets, hashtags, etc.). The function, in the end, returns all the tweets as a dataframe."
   ]
  },
  {
   "cell_type": "code",
   "execution_count": 3,
   "metadata": {},
   "outputs": [],
   "source": [
    "# Funtion to collect information on 100 tweets that contain a particular search term\n",
    "def get_tweets(search_term):\n",
    "    all_tweets = []\n",
    "    # Make API request for tweets in English that contain search_term\n",
    "    for tweet in tweepy.Cursor(api.search, q=search_term,lang = \"en\").items(100):\n",
    "        # Store all tweets in dictionary\n",
    "        all_tweets += [{ 'Tweet_id': tweet.id,\n",
    "                'Screen_name':tweet.author.screen_name,\n",
    "                'Created_at':tweet.created_at,\n",
    "                'Tweet_text':tweet.text,\n",
    "                'Hashtags':re.findall(r\"#(\\w+)\",tweet.text),\n",
    "                'Retweets':tweet.retweet_count,\n",
    "                'Favorites':tweet.favorite_count,\n",
    "                'Location':tweet.user.location}]\n",
    "    # Return all tweets in dataframe format\n",
    "    return pd.DataFrame(all_tweets)"
   ]
  },
  {
   "cell_type": "markdown",
   "metadata": {},
   "source": [
    "Then, we used our function to collect 100 tweets relating to American Airlines, Logan Airport, and pilots, all terms related to our domain. To ensure our funciton worked, we additionally used the .head() method to check the first few tweets."
   ]
  },
  {
   "cell_type": "code",
   "execution_count": 4,
   "metadata": {},
   "outputs": [
    {
     "data": {
      "text/html": [
       "<div>\n",
       "<style scoped>\n",
       "    .dataframe tbody tr th:only-of-type {\n",
       "        vertical-align: middle;\n",
       "    }\n",
       "\n",
       "    .dataframe tbody tr th {\n",
       "        vertical-align: top;\n",
       "    }\n",
       "\n",
       "    .dataframe thead th {\n",
       "        text-align: right;\n",
       "    }\n",
       "</style>\n",
       "<table border=\"1\" class=\"dataframe\">\n",
       "  <thead>\n",
       "    <tr style=\"text-align: right;\">\n",
       "      <th></th>\n",
       "      <th>Tweet_id</th>\n",
       "      <th>Screen_name</th>\n",
       "      <th>Created_at</th>\n",
       "      <th>Tweet_text</th>\n",
       "      <th>Hashtags</th>\n",
       "      <th>Retweets</th>\n",
       "      <th>Favorites</th>\n",
       "      <th>Location</th>\n",
       "    </tr>\n",
       "  </thead>\n",
       "  <tbody>\n",
       "    <tr>\n",
       "      <td>0</td>\n",
       "      <td>1248042040522240001</td>\n",
       "      <td>PorcupineTimes</td>\n",
       "      <td>2020-04-09 00:16:24</td>\n",
       "      <td>#flying it would be great for biz to have #Tis...</td>\n",
       "      <td>[flying, Tisa, COVIDー19]</td>\n",
       "      <td>0</td>\n",
       "      <td>0</td>\n",
       "      <td>United States</td>\n",
       "    </tr>\n",
       "    <tr>\n",
       "      <td>1</td>\n",
       "      <td>1248028366965530624</td>\n",
       "      <td>nickb767400</td>\n",
       "      <td>2020-04-08 23:22:04</td>\n",
       "      <td>RT @airlinevideos: 🇺🇸 @AmericanAir BOEING 737-...</td>\n",
       "      <td>[planespotting, avgeek, aviation, airpl]</td>\n",
       "      <td>23</td>\n",
       "      <td>0</td>\n",
       "      <td>Orange Park, FL</td>\n",
       "    </tr>\n",
       "    <tr>\n",
       "      <td>2</td>\n",
       "      <td>1248013627023486977</td>\n",
       "      <td>InviteBunny</td>\n",
       "      <td>2020-04-08 22:23:30</td>\n",
       "      <td>#AmericanAirlines I sure hope you guys follow ...</td>\n",
       "      <td>[AmericanAirlines, DeltaAirlines, unitedAIRLINES]</td>\n",
       "      <td>0</td>\n",
       "      <td>0</td>\n",
       "      <td>USA</td>\n",
       "    </tr>\n",
       "    <tr>\n",
       "      <td>3</td>\n",
       "      <td>1247997594749501440</td>\n",
       "      <td>pa_advocate98</td>\n",
       "      <td>2020-04-08 21:19:47</td>\n",
       "      <td>100 American Airlines flight attendants test p...</td>\n",
       "      <td>[Covid_19PH, AmericanAirlines]</td>\n",
       "      <td>0</td>\n",
       "      <td>0</td>\n",
       "      <td>USA</td>\n",
       "    </tr>\n",
       "    <tr>\n",
       "      <td>4</td>\n",
       "      <td>1247997507596058628</td>\n",
       "      <td>RyanSalzwedel</td>\n",
       "      <td>2020-04-08 21:19:27</td>\n",
       "      <td>@AmericanAir I see @MarriottBonvoy is extendin...</td>\n",
       "      <td>[AmericanAirlines]</td>\n",
       "      <td>0</td>\n",
       "      <td>0</td>\n",
       "      <td>Chicago, USA!</td>\n",
       "    </tr>\n",
       "  </tbody>\n",
       "</table>\n",
       "</div>"
      ],
      "text/plain": [
       "              Tweet_id     Screen_name          Created_at  \\\n",
       "0  1248042040522240001  PorcupineTimes 2020-04-09 00:16:24   \n",
       "1  1248028366965530624     nickb767400 2020-04-08 23:22:04   \n",
       "2  1248013627023486977     InviteBunny 2020-04-08 22:23:30   \n",
       "3  1247997594749501440   pa_advocate98 2020-04-08 21:19:47   \n",
       "4  1247997507596058628   RyanSalzwedel 2020-04-08 21:19:27   \n",
       "\n",
       "                                          Tweet_text  \\\n",
       "0  #flying it would be great for biz to have #Tis...   \n",
       "1  RT @airlinevideos: 🇺🇸 @AmericanAir BOEING 737-...   \n",
       "2  #AmericanAirlines I sure hope you guys follow ...   \n",
       "3  100 American Airlines flight attendants test p...   \n",
       "4  @AmericanAir I see @MarriottBonvoy is extendin...   \n",
       "\n",
       "                                            Hashtags  Retweets  Favorites  \\\n",
       "0                           [flying, Tisa, COVIDー19]         0          0   \n",
       "1           [planespotting, avgeek, aviation, airpl]        23          0   \n",
       "2  [AmericanAirlines, DeltaAirlines, unitedAIRLINES]         0          0   \n",
       "3                     [Covid_19PH, AmericanAirlines]         0          0   \n",
       "4                                 [AmericanAirlines]         0          0   \n",
       "\n",
       "          Location  \n",
       "0    United States  \n",
       "1  Orange Park, FL  \n",
       "2              USA  \n",
       "3              USA  \n",
       "4    Chicago, USA!  "
      ]
     },
     "execution_count": 4,
     "metadata": {},
     "output_type": "execute_result"
    }
   ],
   "source": [
    "# Get 100 tweets on American Airlines (thing)\n",
    "all_tweets = get_tweets(\"#AmericanAirlines\")\n",
    "airline_tweets = all_tweets\n",
    "airline_tweets.head()"
   ]
  },
  {
   "cell_type": "code",
   "execution_count": 5,
   "metadata": {},
   "outputs": [
    {
     "data": {
      "text/html": [
       "<div>\n",
       "<style scoped>\n",
       "    .dataframe tbody tr th:only-of-type {\n",
       "        vertical-align: middle;\n",
       "    }\n",
       "\n",
       "    .dataframe tbody tr th {\n",
       "        vertical-align: top;\n",
       "    }\n",
       "\n",
       "    .dataframe thead th {\n",
       "        text-align: right;\n",
       "    }\n",
       "</style>\n",
       "<table border=\"1\" class=\"dataframe\">\n",
       "  <thead>\n",
       "    <tr style=\"text-align: right;\">\n",
       "      <th></th>\n",
       "      <th>Tweet_id</th>\n",
       "      <th>Screen_name</th>\n",
       "      <th>Created_at</th>\n",
       "      <th>Tweet_text</th>\n",
       "      <th>Hashtags</th>\n",
       "      <th>Retweets</th>\n",
       "      <th>Favorites</th>\n",
       "      <th>Location</th>\n",
       "    </tr>\n",
       "  </thead>\n",
       "  <tbody>\n",
       "    <tr>\n",
       "      <td>0</td>\n",
       "      <td>1246797293338136576</td>\n",
       "      <td>RWayneLopez</td>\n",
       "      <td>2020-04-05 13:50:13</td>\n",
       "      <td>Coming Soon 45 Province PH3B for lease at $12,...</td>\n",
       "      <td>[]</td>\n",
       "      <td>0</td>\n",
       "      <td>1</td>\n",
       "      <td>Boston, MA</td>\n",
       "    </tr>\n",
       "    <tr>\n",
       "      <td>1</td>\n",
       "      <td>1246614553535922181</td>\n",
       "      <td>BOS_Boston_Limo</td>\n",
       "      <td>2020-04-05 01:44:05</td>\n",
       "      <td>First class premium car services Boston, MA\\nh...</td>\n",
       "      <td>[loganairport]</td>\n",
       "      <td>0</td>\n",
       "      <td>1</td>\n",
       "      <td>Boston, MA</td>\n",
       "    </tr>\n",
       "    <tr>\n",
       "      <td>2</td>\n",
       "      <td>1246595470417371138</td>\n",
       "      <td>LisaAFerrari</td>\n",
       "      <td>2020-04-05 00:28:15</td>\n",
       "      <td>Looking for the place that moved so I can drop...</td>\n",
       "      <td>[loganairport, bostonfishpier]</td>\n",
       "      <td>0</td>\n",
       "      <td>1</td>\n",
       "      <td>Boston,MA</td>\n",
       "    </tr>\n",
       "    <tr>\n",
       "      <td>3</td>\n",
       "      <td>1246164233240354816</td>\n",
       "      <td>jb_SID</td>\n",
       "      <td>2020-04-03 19:54:40</td>\n",
       "      <td>26,000 people departed #LoganAirport last week...</td>\n",
       "      <td>[LoganAirport, Covid]</td>\n",
       "      <td>0</td>\n",
       "      <td>0</td>\n",
       "      <td>Boston</td>\n",
       "    </tr>\n",
       "    <tr>\n",
       "      <td>4</td>\n",
       "      <td>1246117138659545089</td>\n",
       "      <td>getmybuzzup</td>\n",
       "      <td>2020-04-03 16:47:32</td>\n",
       "      <td>The #newenglandpatriots plane just touched dow...</td>\n",
       "      <td>[newenglandpatriots, loganairport, boston, n95...</td>\n",
       "      <td>0</td>\n",
       "      <td>0</td>\n",
       "      <td>Yonkers, NY, CT, NJ, ATL, LA</td>\n",
       "    </tr>\n",
       "  </tbody>\n",
       "</table>\n",
       "</div>"
      ],
      "text/plain": [
       "              Tweet_id      Screen_name          Created_at  \\\n",
       "0  1246797293338136576      RWayneLopez 2020-04-05 13:50:13   \n",
       "1  1246614553535922181  BOS_Boston_Limo 2020-04-05 01:44:05   \n",
       "2  1246595470417371138     LisaAFerrari 2020-04-05 00:28:15   \n",
       "3  1246164233240354816           jb_SID 2020-04-03 19:54:40   \n",
       "4  1246117138659545089      getmybuzzup 2020-04-03 16:47:32   \n",
       "\n",
       "                                          Tweet_text  \\\n",
       "0  Coming Soon 45 Province PH3B for lease at $12,...   \n",
       "1  First class premium car services Boston, MA\\nh...   \n",
       "2  Looking for the place that moved so I can drop...   \n",
       "3  26,000 people departed #LoganAirport last week...   \n",
       "4  The #newenglandpatriots plane just touched dow...   \n",
       "\n",
       "                                            Hashtags  Retweets  Favorites  \\\n",
       "0                                                 []         0          1   \n",
       "1                                     [loganairport]         0          1   \n",
       "2                     [loganairport, bostonfishpier]         0          1   \n",
       "3                              [LoganAirport, Covid]         0          0   \n",
       "4  [newenglandpatriots, loganairport, boston, n95...         0          0   \n",
       "\n",
       "                       Location  \n",
       "0                    Boston, MA  \n",
       "1                    Boston, MA  \n",
       "2                     Boston,MA  \n",
       "3                        Boston  \n",
       "4  Yonkers, NY, CT, NJ, ATL, LA  "
      ]
     },
     "execution_count": 5,
     "metadata": {},
     "output_type": "execute_result"
    }
   ],
   "source": [
    "# Get 100 tweets on Logan Airport (place)\n",
    "all_tweets = get_tweets(\"#LoganAirport\")\n",
    "airport_tweets = all_tweets\n",
    "airport_tweets.head()"
   ]
  },
  {
   "cell_type": "code",
   "execution_count": 6,
   "metadata": {
    "scrolled": true
   },
   "outputs": [
    {
     "data": {
      "text/html": [
       "<div>\n",
       "<style scoped>\n",
       "    .dataframe tbody tr th:only-of-type {\n",
       "        vertical-align: middle;\n",
       "    }\n",
       "\n",
       "    .dataframe tbody tr th {\n",
       "        vertical-align: top;\n",
       "    }\n",
       "\n",
       "    .dataframe thead th {\n",
       "        text-align: right;\n",
       "    }\n",
       "</style>\n",
       "<table border=\"1\" class=\"dataframe\">\n",
       "  <thead>\n",
       "    <tr style=\"text-align: right;\">\n",
       "      <th></th>\n",
       "      <th>Tweet_id</th>\n",
       "      <th>Screen_name</th>\n",
       "      <th>Created_at</th>\n",
       "      <th>Tweet_text</th>\n",
       "      <th>Hashtags</th>\n",
       "      <th>Retweets</th>\n",
       "      <th>Favorites</th>\n",
       "      <th>Location</th>\n",
       "    </tr>\n",
       "  </thead>\n",
       "  <tbody>\n",
       "    <tr>\n",
       "      <td>0</td>\n",
       "      <td>1248059185788366848</td>\n",
       "      <td>Boldmethod</td>\n",
       "      <td>2020-04-09 01:24:32</td>\n",
       "      <td>RT @BoseAviation: 7 Of The Strangest Instrumen...</td>\n",
       "      <td>[whyifly, boseaviation, bosea20, boseprofl]</td>\n",
       "      <td>1</td>\n",
       "      <td>0</td>\n",
       "      <td>Boulder, CO</td>\n",
       "    </tr>\n",
       "    <tr>\n",
       "      <td>1</td>\n",
       "      <td>1248058781625434112</td>\n",
       "      <td>taggart_colin</td>\n",
       "      <td>2020-04-09 01:22:56</td>\n",
       "      <td>RT @PilotHusky: Just love this photo, all the ...</td>\n",
       "      <td>[AvGeeks, av]</td>\n",
       "      <td>6</td>\n",
       "      <td>0</td>\n",
       "      <td>Toronto</td>\n",
       "    </tr>\n",
       "    <tr>\n",
       "      <td>2</td>\n",
       "      <td>1248058546660532233</td>\n",
       "      <td>Quaestor2250</td>\n",
       "      <td>2020-04-09 01:21:59</td>\n",
       "      <td>RT @Quaestor2250: [Character: Arbitor] Antifa,...</td>\n",
       "      <td>[QuaestorMovie, ConceptArt, Blockchain, BitCoi...</td>\n",
       "      <td>13</td>\n",
       "      <td>0</td>\n",
       "      <td></td>\n",
       "    </tr>\n",
       "    <tr>\n",
       "      <td>3</td>\n",
       "      <td>1248058197971292164</td>\n",
       "      <td>Angelic76095657</td>\n",
       "      <td>2020-04-09 01:20:36</td>\n",
       "      <td>RT @SteveHammActor: Just completed a patient t...</td>\n",
       "      <td>[fly, Sunny]</td>\n",
       "      <td>5</td>\n",
       "      <td>0</td>\n",
       "      <td>Philadelphia, PA</td>\n",
       "    </tr>\n",
       "    <tr>\n",
       "      <td>4</td>\n",
       "      <td>1248058133404147712</td>\n",
       "      <td>EU_Precious</td>\n",
       "      <td>2020-04-09 01:20:21</td>\n",
       "      <td>RT @CONTEMPRA_INN: This 16-year-old #pilot-in-...</td>\n",
       "      <td>[pilot, medical, rural, hospitals, GoodDeeds, ...</td>\n",
       "      <td>2</td>\n",
       "      <td>0</td>\n",
       "      <td>Finland</td>\n",
       "    </tr>\n",
       "  </tbody>\n",
       "</table>\n",
       "</div>"
      ],
      "text/plain": [
       "              Tweet_id      Screen_name          Created_at  \\\n",
       "0  1248059185788366848       Boldmethod 2020-04-09 01:24:32   \n",
       "1  1248058781625434112    taggart_colin 2020-04-09 01:22:56   \n",
       "2  1248058546660532233     Quaestor2250 2020-04-09 01:21:59   \n",
       "3  1248058197971292164  Angelic76095657 2020-04-09 01:20:36   \n",
       "4  1248058133404147712      EU_Precious 2020-04-09 01:20:21   \n",
       "\n",
       "                                          Tweet_text  \\\n",
       "0  RT @BoseAviation: 7 Of The Strangest Instrumen...   \n",
       "1  RT @PilotHusky: Just love this photo, all the ...   \n",
       "2  RT @Quaestor2250: [Character: Arbitor] Antifa,...   \n",
       "3  RT @SteveHammActor: Just completed a patient t...   \n",
       "4  RT @CONTEMPRA_INN: This 16-year-old #pilot-in-...   \n",
       "\n",
       "                                            Hashtags  Retweets  Favorites  \\\n",
       "0        [whyifly, boseaviation, bosea20, boseprofl]         1          0   \n",
       "1                                      [AvGeeks, av]         6          0   \n",
       "2  [QuaestorMovie, ConceptArt, Blockchain, BitCoi...        13          0   \n",
       "3                                       [fly, Sunny]         5          0   \n",
       "4  [pilot, medical, rural, hospitals, GoodDeeds, ...         2          0   \n",
       "\n",
       "           Location  \n",
       "0       Boulder, CO  \n",
       "1           Toronto  \n",
       "2                    \n",
       "3  Philadelphia, PA  \n",
       "4           Finland  "
      ]
     },
     "execution_count": 6,
     "metadata": {},
     "output_type": "execute_result"
    }
   ],
   "source": [
    "# Get 100 tweets on Pilot (person)\n",
    "all_tweets = get_tweets(\"#pilot\")\n",
    "pilot_tweets = all_tweets\n",
    "pilot_tweets.head()"
   ]
  },
  {
   "cell_type": "markdown",
   "metadata": {},
   "source": [
    "### Social Media Questions"
   ]
  },
  {
   "cell_type": "markdown",
   "metadata": {},
   "source": [
    "After collecting all the data, we analyzed it in order to answer questions about tags, users, and trending topic within our domain. Below are the answers to all the questions from the assignment as well as detailed descriptions on how we went about finding those answers."
   ]
  },
  {
   "cell_type": "markdown",
   "metadata": {},
   "source": [
    "#### What are tags are associated with a person, place or thing?"
   ]
  },
  {
   "cell_type": "markdown",
   "metadata": {},
   "source": [
    "To determine what tags were associated with each of our data frames, we first define a function to extract tags from our data frame. The get_hashtags function loops through every row of the dataframe and looks at the 'Hashtag' column. Since some tweets have multiple tags, the function splits them up and replaces or removes all the blank spots. Each tag is then added to the overall list of tags and sent back.\n",
    "\n",
    "Now that this functions was created, we could simply call it with each domain- airport, airline, pilot."
   ]
  },
  {
   "cell_type": "code",
   "execution_count": 7,
   "metadata": {},
   "outputs": [],
   "source": [
    "# Function to extract all tags from the data frame\n",
    "def get_hashtags(tweets):\n",
    "    all_hashtags = []\n",
    "    # Loop through each row in data frame\n",
    "    for index, row in tweets.iterrows():\n",
    "        # Extract all tags and split them up\n",
    "        tweet_hashtags = row['Hashtags']\n",
    "        for tag in tweet_hashtags:\n",
    "            # Remove any extra space and add to the list of all tags\n",
    "            tag = tag.replace(\"'\", \"\")\n",
    "            all_hashtags.append(tag.replace(\" \", \"\"))\n",
    " \n",
    "    # Remove all blank entries\n",
    "    while(\"\" in all_hashtags) : \n",
    "        all_hashtags.remove(\"\")\n",
    "        \n",
    "    return all_hashtags"
   ]
  },
  {
   "cell_type": "markdown",
   "metadata": {},
   "source": [
    "Here all the tags associated with American Airlines (a thing):"
   ]
  },
  {
   "cell_type": "code",
   "execution_count": 8,
   "metadata": {},
   "outputs": [
    {
     "name": "stdout",
     "output_type": "stream",
     "text": [
      "['flying', 'Tisa', 'COVIDー19', 'planespotting', 'avgeek', 'aviation', 'airpl', 'AmericanAirlines', 'DeltaAirlines', 'unitedAIRLINES', 'Covid_19PH', 'AmericanAirlines', 'AmericanAirlines', 'AmericanAirlines', 'AmericanAirlines', 'AmericanAirlines', 'AmericanAirlines', 'AmericanAirlines', 'AmericanAirlines', 'AmericanAirlines', 'AmericanAirlines', 'AmericanAirlines', 'planespotting', 'avgeek', 'aviation', 'airpl', 'AmericanAirlines', 'planespotting', 'avgeek', 'aviation', 'airpl', 'americanairlines', 'coronavirus', 'southwestairlines', 'AmericanAirlines', 'americanairlines', 'dfw', 'AmericanAirlines', 'WeAreInThisTogether', 'Aviation', 'Airlines', 'flightattendants', 'capitalism', 'AmericanAirlines', 'Airbus', 'Airbus350', 'Aviation', 'AviationDaily', 'AVGeek', 'TravelDiaries', 'AirbusLov', 'Airbus', 'Airbus350', 'Aviation', 'AviationDaily', 'AVGeek', 'TravelDiaries', 'LAX', 'London', 'LHR', 'travel', 'AmericanAirl', 'planespotting', 'avgeek', 'aviation', 'airpl', 'AmericanAirlines', 'CarnivalCorporation', 'AmericanAirlines', 'americanairlines', 'planespotting', 'avgeek', 'aviation', 'airpl', 'planespotting', 'avgeek', 'aviation', 'airpl', 'AmericanAirlines', 'planespotting', 'avgeek', 'aviation', 'airpl', 'AmericanAirlines', 'coronavirus', 'planespotting', 'avgeek', 'aviation', 'airpl', 'planespotting', 'avgeek', 'aviation', 'airpl', 'planespotting', 'avgeek', 'aviation', 'airpl', 'planespotting', 'avgeek', 'aviation', 'airpl', 'planespotting', 'avgeek', 'aviation', 'airpl', 'COVID19', 'ttot', 'COVID19', 'AmericanAirlines', 'Southwest', 'COVID19', 'AmericanAirlines', 'coronavirus', 'StayHome', 'COVID19', 'AmericanAirlines', 'Southwest', 'COVID19', 'planespotting', 'avgeek', 'aviation', 'airpl', 'AmericanAirlines', 'cheapflights', 'planespotting', 'avgeek', 'aviation', 'airpl', 'AmericanAirlines', 'AAbird', 'AmericanAirlines', 'OneWorld', 'flight', 'planespotting', 'avgeek', 'aviation', 'airpl', 'planespotting', 'avgeek', 'aviation', 'airpl', 'planespotting', 'avgeek', 'aviation', 'airpl', 'planespotting', 'avgeek', 'aviation', 'airpl', 'planespotting', 'avgeek', 'aviation', 'airpl', 'planespotting', 'avgeek', 'aviation', 'pandemic', 'CoronavirusPandemic', 'AmericanAirlines', 'Delt', 'CoronavirusPandemic', 'AmericanAirlines', 'UnitedAirlines', 'AmericanAirlines', 'AmericanAirlines', 'failure', 'AmericanAirlines', 'UnitedAirlines', 'AmericanAirlines', 'American', 'AmericanAirlines', 'Boeing', 'B737', 'B738', 'BoeingLovers', 'AeroSpotters', 'ColAeroSpotters', 'Classic', 'AmericanAirlines', 'FlagShip', 'BusinessClass', 'Boeing767', 'oneworld', 'Boeing', 'Dusseldorf', 'Chicago', 'travel']\n"
     ]
    }
   ],
   "source": [
    "# Find and print most popular tags for American Airlines \n",
    "airline_tags = get_hashtags(airline_tweets)\n",
    "print(airline_tags)"
   ]
  },
  {
   "cell_type": "markdown",
   "metadata": {},
   "source": [
    "Here all the tags associated with Logan Airport (a place):"
   ]
  },
  {
   "cell_type": "code",
   "execution_count": 9,
   "metadata": {},
   "outputs": [
    {
     "name": "stdout",
     "output_type": "stream",
     "text": [
      "['loganairport', 'loganairport', 'bostonfishpier', 'LoganAirport', 'Covid', 'newenglandpatriots', 'loganairport', 'boston', 'n95mask', 'repost', 'NewEngland', 'Patriots', 'LoganAirport', 'Boston', 'repost', 'NewEngland', 'Patriots', 'LoganAirport', 'Boston', 'repost', 'NewEngland', 'Patriots', 'LoganAirport', 'Boston', 'N95masks', 'Boston', 'LoganAirport', 'loganairport', 'loganairport', 'LoganAirport', 'LoganAirport', 'LoganAirport', 'LoganAirport', 'LoganAirport', 'LoganAirport', 'LoganAirport', 'LoganAirport', 'LoganAirport', 'LoganAirport', 'LoganAirport', 'LoganAirport', 'LoganAirport', 'LoganAirport', 'LoganAirport', 'LoganAirport', 'LoganAirport', 'LoganAirport', 'LoganAirport', 'LoganAirport']\n"
     ]
    }
   ],
   "source": [
    "# Find and print most popular tags for Logan Airport\n",
    "airport_tags = get_hashtags(airport_tweets)\n",
    "print(airport_tags)"
   ]
  },
  {
   "cell_type": "markdown",
   "metadata": {},
   "source": [
    "Here all the tags associated with pilots (a person):"
   ]
  },
  {
   "cell_type": "code",
   "execution_count": 10,
   "metadata": {},
   "outputs": [
    {
     "name": "stdout",
     "output_type": "stream",
     "text": [
      "['whyifly', 'boseaviation', 'bosea20', 'boseprofl', 'AvGeeks', 'av', 'QuaestorMovie', 'ConceptArt', 'Blockchain', 'BitCoin', 'A', 'fly', 'Sunny', 'pilot', 'medical', 'rural', 'hospitals', 'GoodDeeds', 'Kind', 'aviation', 'airpl', 'aviation', 'airplane', 'planes', 'jets', 'aircraft', 'aviation', 'a', 'aviation', 'pilot', 'medical', 'rural', 'hospitals', 'GoodDeeds', 'Kind', 'pilot', 'medical', 'rural', 'hospitals', 'GoodDeeds', 'aviation', 'airplane', 'planes', 'jets', 'soarin', 'pilot', 'travel', 'dreaming', 'wa', 'soarin', 'pilot', 'travel', 'AvGeeks', 'av', 'NEWS', 'aerial', 'attack', 'Iran', 'aerial', 'attack', 'Iran', 'aviation', 'airplane', 'planes', 'jets', 'aircra', 'aviation', 'airplane', 'planes', 'jets', 'aircraft', 'pilot', 'heli', 'etsy', 'aviation', 'airplane', 'planes', 'jets', 'aviation', 'airplane', 'planes', 'jets', 'aircraft', 'pilot', 'journey', 'Germany', 'Seattle', 'Canada', 'Vancouver', 'England', 'aviation', 'airplane', 'planes', 'jets', 'aircraft', 'pilo', 'whyifly', 'boseaviation', 'bosea20', 'aviation', 'airplane', 'planes', 'jets', 'aircraft', 'RVSM', 'bizav', 'bizjet', 'GPS', 'aviation', 'airplane', 'avgeek', 'aviationphotography', 'planespotting', 'aviation', 'pil', 'aviation', 'aviation', 'airplane', 'planes', 'jets', 'aircraft', 'p', 'CFIs', 'Aviators', 'Teachers', 'aviation', 'pilot', 'QuoteOfTheDay', 'ImHurtBad', 'AngeloBadalamenti', 'TwinPeaks', 'Pilot', 'TheDoubl', 'QuoteOfTheDay', 'ImHurtBad', 'AngeloBadalamenti', 'TwinPeaks', 'Pilot', 'TheDoubl', 'aviation', 'airplane', 'planes', 'jets', 'fly', 'Sunny', 'fly', 'Sunny', 'aviation', 'airplane', 'planes', 'jets', 'aircraf', 'pilot', 'aviator', 'newyork', 'lga', 'aviation', 'pilot', 'aviation', 'airplane', 'fly', 'Sunny', 'aviation', 'airplane', 'planes', 'jets', 'bloodshot', 'valiant', 'comics', 'AfterLife', 'histfic', 'supernatural', 'paranorma', 'WWII', 'Pilot', 'SocialDistancing', 'WednesdayMotivation', 'COVID19', 'aviation', 'airplane', 'aviation', 'air', 'aviation', 'airplane', 'p', 'fly', 'Sunny', 'aviation', 'Pilot', 'Military', 'aviation', 'fly', 'Sunny', 'europe', 'navy', 'pacific', 'aviation', 'drone', 'dji', 'djirocket', 'djimavicmini', 'droneshot', 'dronemovie', 'instagram', 'AvGeeks', 'av', 'avgeek', 'pilotlife']\n"
     ]
    }
   ],
   "source": [
    "# Find and print most popular tags for pilot\n",
    "pilot_tags = get_hashtags(pilot_tweets)\n",
    "print(pilot_tags)"
   ]
  },
  {
   "cell_type": "markdown",
   "metadata": {},
   "source": [
    "#### What social media users are like other social media users in your domain?"
   ]
  },
  {
   "cell_type": "markdown",
   "metadata": {},
   "source": [
    "To determine which users in our domain are similar, we created a function called get_similar_users. The function takes in the data frame with all the tweet information and finds all users that tweeted using a particular tag. This is done by looping through all the tags, and any time the desired tag is found, the user that made that tweet is added to the list of similar users. This way, all users that tweet about a particular topic and use its specific tag are deemed to be similar."
   ]
  },
  {
   "cell_type": "code",
   "execution_count": 11,
   "metadata": {},
   "outputs": [],
   "source": [
    "# Function to find all users that used the same tag in their tweets\n",
    "def get_similar_users(tweets, desired_tag):\n",
    "    similar_users = []\n",
    "    # Loop through each row in data frame\n",
    "    for index, row in tweets.iterrows():\n",
    "        # Extract all tags and split them up\n",
    "        tweet_hashtags = row['Hashtags']\n",
    "        for tag in tweet_hashtags:\n",
    "            # Remove any extra space from tag\n",
    "            tag = tag.replace(\"'\", \"\")\n",
    "            tag = tag.replace(\" \", \"\")\n",
    "            # If the tag matches the desired tag, add user to the list of similar users\n",
    "            if tag == desired_tag:\n",
    "                similar_users.append(row['Screen_name'])\n",
    "        \n",
    "    return similar_users"
   ]
  },
  {
   "cell_type": "markdown",
   "metadata": {},
   "source": [
    "Here are some similar users which all tweeted about COVID19 and American Airlines:"
   ]
  },
  {
   "cell_type": "code",
   "execution_count": 12,
   "metadata": {},
   "outputs": [
    {
     "name": "stdout",
     "output_type": "stream",
     "text": [
      "CarvajalF\n",
      "BackpackerAsia\n",
      "theVickyR\n",
      "airports_hotels\n",
      "muhsin_AH\n"
     ]
    }
   ],
   "source": [
    "# Find all distinct users that tweeted about B757\n",
    "airline_users = get_similar_users(airline_tweets,'COVID19')\n",
    "for user in set(airline_users):\n",
    "    print(user)"
   ]
  },
  {
   "cell_type": "markdown",
   "metadata": {},
   "source": [
    "Here are some similar users which all tweeted about Boston and Boston's Logan Airport:"
   ]
  },
  {
   "cell_type": "code",
   "execution_count": 13,
   "metadata": {},
   "outputs": [
    {
     "name": "stdout",
     "output_type": "stream",
     "text": [
      "megaphone2017\n",
      "MisterBigfoot\n",
      "SusanKim4\n",
      "JuliaFello\n"
     ]
    }
   ],
   "source": [
    "# Find all distinct users that tweeted about Quincy Cab\n",
    "airport_users = get_similar_users(airport_tweets,'Boston')\n",
    "for user in set(airport_users):\n",
    "    print(user)"
   ]
  },
  {
   "cell_type": "markdown",
   "metadata": {},
   "source": [
    "Here are some similar users which all tweeted with the pilot tag:"
   ]
  },
  {
   "cell_type": "code",
   "execution_count": 14,
   "metadata": {},
   "outputs": [
    {
     "name": "stdout",
     "output_type": "stream",
     "text": [
      "KLovesNature\n",
      "mOQIl\n",
      "aeromarinetax\n",
      "CONTEMPRA_INN\n",
      "ebcrew00\n",
      "metat3000\n",
      "MalvinHobbs\n",
      "EU_Precious\n",
      "princess_amp\n",
      "boatmarinelife\n"
     ]
    }
   ],
   "source": [
    "# Find all distinct users that tweeted aviation photos\n",
    "pilot_users = get_similar_users(pilot_tweets,'pilot')\n",
    "for user in set(pilot_users):\n",
    "    print(user)"
   ]
  },
  {
   "cell_type": "markdown",
   "metadata": {},
   "source": [
    "#### What people, places or things are popular in your domain?"
   ]
  },
  {
   "cell_type": "markdown",
   "metadata": {},
   "source": [
    "To get a list of most popular items in each domain, we created a function called popular_tags. This function uses the Counter method from the collections library to get a list of each tag used, accompanied by how many times it was used. It then uses the most_common method to extract the top 10 tags and print the tags (as well as the number of times they were used). This enabled us to see what topics were most popular for each set of tweets.\n",
    "\n",
    "To get most popular people in the domain, we created a function called popular_user. This function gets all usernames and their associated popularity (calculated by adding up the number of retweets and favorites). Then, it finds the top 3 users and prints their name as well as popularity (sum of retweets and favorites for a single tweet).\n",
    "\n",
    "Using these 2 functions, we were able to determine the most popular people, places, and things."
   ]
  },
  {
   "cell_type": "code",
   "execution_count": 15,
   "metadata": {},
   "outputs": [],
   "source": [
    "# Function to get most popular tags\n",
    "def popular_tags(all_tags):\n",
    "    # Count all tags and get top 10 most used tags\n",
    "    tag_counts = collections.Counter(all_tags)\n",
    "    popular_tags = tag_counts.most_common(10)\n",
    "    # Print tags to the console\n",
    "    for tag in popular_tags:\n",
    "        print(tag[0] + \", \" + str(tag[1]))\n",
    "    return popular_tags\n",
    "   \n",
    "# Function to find top users (num specifies how many top users to find)\n",
    "def popular_users(tweets, num):\n",
    "    users = []\n",
    "    popularity = []\n",
    "    # Loop through each row in data frame\n",
    "    for index, row in tweets.iterrows():\n",
    "        # Calculate popularity as sum of retweets and favorites\n",
    "        users.append(row['Screen_name'])\n",
    "        popularity.append(row['Retweets'] + row['Favorites'])\n",
    "    \n",
    "    # Find maximum popularity values and the associated users \n",
    "    for index in range(len(popularity)):\n",
    "        top_index = np.argsort(popularity)[-num:]\n",
    "        top_users = [users[i] for i in top_index]\n",
    "        top_popularity = [popularity[i] for i in top_index]\n",
    "    \n",
    "    # Print top users and their popularity\n",
    "    for index in range(len(top_users)):\n",
    "        print(\"User: \"+top_users[index]+\", Popularity: \"+str(top_popularity[index]))"
   ]
  },
  {
   "cell_type": "markdown",
   "metadata": {},
   "source": [
    "Here are the most popular people, places, and things in the American Airline domain:"
   ]
  },
  {
   "cell_type": "code",
   "execution_count": 16,
   "metadata": {},
   "outputs": [
    {
     "name": "stdout",
     "output_type": "stream",
     "text": [
      "Populart Places and Things\n",
      "AmericanAirlines, 34\n",
      "planespotting, 20\n",
      "avgeek, 20\n",
      "aviation, 20\n",
      "airpl, 19\n",
      "COVID19, 5\n",
      "americanairlines, 3\n",
      "coronavirus, 3\n",
      "Aviation, 3\n",
      "Airbus, 2\n",
      "\n",
      "Popular Users\n",
      "User: gib_zzz, Popularity: 23\n",
      "User: LATVPHOTOG, Popularity: 23\n",
      "User: Peter34080554, Popularity: 23\n",
      "User: transportworker, Popularity: 34\n",
      "User: airlinevideos, Popularity: 109\n"
     ]
    }
   ],
   "source": [
    "# Find popular tags\n",
    "print(\"Populart Places and Things\")\n",
    "pop_airline_tags = popular_tags(airline_tags)\n",
    "\n",
    "# Find top 5 popular users\n",
    "print()\n",
    "print(\"Popular Users\")\n",
    "popular_users(airline_tweets,5)"
   ]
  },
  {
   "cell_type": "markdown",
   "metadata": {},
   "source": [
    "Here are the most popular people, places, and things in the Logan Airport domain:"
   ]
  },
  {
   "cell_type": "code",
   "execution_count": 17,
   "metadata": {},
   "outputs": [
    {
     "name": "stdout",
     "output_type": "stream",
     "text": [
      "Populart Places and Things\n",
      "LoganAirport, 25\n",
      "loganairport, 5\n",
      "Boston, 4\n",
      "repost, 3\n",
      "NewEngland, 3\n",
      "Patriots, 3\n",
      "bostonfishpier, 1\n",
      "Covid, 1\n",
      "newenglandpatriots, 1\n",
      "boston, 1\n",
      "\n",
      "Popular Users\n",
      "User: NHFirebuff20, Popularity: 20\n",
      "User: Winthropvikings, Popularity: 20\n",
      "User: chipsy231, Popularity: 20\n",
      "User: Spanglor_13, Popularity: 20\n",
      "User: JacqueGoddard, Popularity: 31\n"
     ]
    }
   ],
   "source": [
    "# Find popular tags\n",
    "print(\"Populart Places and Things\")\n",
    "pop_airport_tags = popular_tags(airport_tags)\n",
    "\n",
    "# Find top 5 popular users\n",
    "print()\n",
    "print(\"Popular Users\")\n",
    "popular_users(airport_tweets,5)"
   ]
  },
  {
   "cell_type": "markdown",
   "metadata": {},
   "source": [
    "Here are the most popular people, places, and things in the pilot domain:"
   ]
  },
  {
   "cell_type": "code",
   "execution_count": 18,
   "metadata": {},
   "outputs": [
    {
     "name": "stdout",
     "output_type": "stream",
     "text": [
      "Populart Places and Things\n",
      "aviation, 27\n",
      "airplane, 16\n",
      "planes, 12\n",
      "jets, 12\n",
      "pilot, 10\n",
      "fly, 6\n",
      "Sunny, 6\n",
      "aircraft, 6\n",
      "Pilot, 4\n",
      "AvGeeks, 3\n",
      "\n",
      "Popular Users\n",
      "User: fabiorovelo, Popularity: 19\n",
      "User: osborne_ashiono, Popularity: 19\n",
      "User: IATA, Popularity: 19\n",
      "User: SteveHammActor, Popularity: 42\n",
      "User: SweetTaleBooks, Popularity: 138\n"
     ]
    }
   ],
   "source": [
    "# Find popular tags\n",
    "print(\"Populart Places and Things\")\n",
    "pop_pilot_tags = popular_tags(pilot_tags)\n",
    "\n",
    "# Find top 5 popular users\n",
    "print()\n",
    "print(\"Popular Users\")\n",
    "popular_users(pilot_tweets,5)"
   ]
  },
  {
   "cell_type": "markdown",
   "metadata": {},
   "source": [
    "To better visualize our data, we also created a plot that shows the top 3 tags from each search that we did, as well as how many times that particular tags was tweeted across the 100 tweets that we collected from each category."
   ]
  },
  {
   "cell_type": "code",
   "execution_count": 19,
   "metadata": {},
   "outputs": [
    {
     "data": {
      "text/plain": [
       "([0, 1, 2, 3, 4, 5, 6, 7, 8], <a list of 9 Text xticklabel objects>)"
      ]
     },
     "execution_count": 19,
     "metadata": {},
     "output_type": "execute_result"
    },
    {
     "data": {
      "image/png": "[encoded data removed]",
      "text/plain": [
       "<Figure size 432x288 with 1 Axes>"
      ]
     },
     "metadata": {
      "needs_background": "light"
     },
     "output_type": "display_data"
    }
   ],
   "source": [
    "# Make a list of top 3 tags from each search\n",
    "all_pop_tags = pop_airline_tags[0:3] + pop_airport_tags[0:3] + pop_pilot_tags[0:3]\n",
    "pop_tag_df = pd.DataFrame(all_pop_tags)\n",
    "\n",
    "# Plot popularity of each tag\n",
    "plt.bar(pop_tag_df[0],pop_tag_df[1])\n",
    "plt.title('Popular Airline and Airport Tags')\n",
    "plt.ylabel('Popularity: Number of Times Tweeted')\n",
    "plt.xlabel('Twitter Hashtag')\n",
    "plt.xticks(rotation='vertical')"
   ]
  },
  {
   "cell_type": "markdown",
   "metadata": {},
   "source": [
    "#### What people, places or things are trending in your domain?"
   ]
  },
  {
   "cell_type": "markdown",
   "metadata": {},
   "source": [
    "To determine what things were trending in our domain, we collected twitter data over the span of 7 days (maximum number of days the twitter API allows). We created a function called get_tweets_until, which takes in a search term and a date, and collects 100 tweets that contain that search term for that particular date. "
   ]
  },
  {
   "cell_type": "code",
   "execution_count": 20,
   "metadata": {},
   "outputs": [],
   "source": [
    "# Function to collect tweet data for a particular date\n",
    "def get_tweets_until(search_term,date):\n",
    "    all_tweets = []\n",
    "    # Get data from API for specific date listed\n",
    "    for tweet in tweepy.Cursor(api.search, q=search_term,lang = \"en\",until=date).items(100):\n",
    "        # Move data into a dictionary\n",
    "        all_tweets += [{ 'Tweet_id': tweet.id,\n",
    "                'Screen_name':tweet.author.screen_name,\n",
    "                'Created_at':tweet.created_at,\n",
    "                'Tweet_text':tweet.text,\n",
    "                'Hashtags':re.findall(r\"#(\\w+)\",tweet.text),\n",
    "                'Retweets':tweet.retweet_count,\n",
    "                'Favorites':tweet.favorite_count,\n",
    "                'Location':tweet.user.location}]\n",
    "    # Return all tweets as a dataframe\n",
    "    return pd.DataFrame(all_tweets)"
   ]
  },
  {
   "cell_type": "markdown",
   "metadata": {},
   "source": [
    "To get data from multiple dates, we created a for loop, which starts at a particular date and gets 100 tweets for that date, as well as 6 days after that. Next, the 10 most popular tags for each day are extracted using functions we created for previous parts, and those tags are then stored in a dictionary. In the end, the dictionary contains the most popular tags and their overall count for a span of 7 days."
   ]
  },
  {
   "cell_type": "code",
   "execution_count": 21,
   "metadata": {},
   "outputs": [],
   "source": [
    "# Create dictionary to store popular tags for 7 days\n",
    "tag_trend = {1:[],2:[],3:[],4:[],5:[],6:[],7:[]}\n",
    "\n",
    "# Loop through 7 different dates\n",
    "for day in range(7):\n",
    "    date = \"2020-04-0\" + str(day+2)\n",
    "    # Collect twitter data and extract top 10 most popular tags\n",
    "    tweets = get_tweets_until(\"#airtravel\",date)\n",
    "    all_tags = get_hashtags(tweets)\n",
    "    tag_counts = collections.Counter(all_tags)\n",
    "    popular_tags = tag_counts.most_common(10)\n",
    "    # Store most popular tags for each day\n",
    "    tag_trend.update({day+1: popular_tags})    "
   ]
  },
  {
   "cell_type": "markdown",
   "metadata": {},
   "source": [
    "To check our data, we printed all the tags and their counts across all the days."
   ]
  },
  {
   "cell_type": "code",
   "execution_count": 22,
   "metadata": {},
   "outputs": [
    {
     "name": "stdout",
     "output_type": "stream",
     "text": [
      "{1: [('airtravel', 9), ('airlines', 3), ('travel', 3), ('scicomm', 2), ('COVID19', 2), ('AirQuality', 2), ('COVIDー19', 2), ('Catch2020', 2), ('AirTrafficControl', 2), ('coronacrisis', 2)], 2: [('airtravel', 36), ('aviation', 10), ('avgeek', 9), ('coronavirus', 9), ('airlines', 8), ('COVID19', 7), ('travel', 7), ('tui', 7), ('holidays', 7), ('AirTravel', 6)], 3: [('airtravel', 34), ('aviation', 18), ('avgeek', 12), ('travel', 9), ('Airtravel', 8), ('AeroSpace', 7), ('airbus', 7), ('COVID19', 7), ('Airport', 7), ('architecture', 7)], 4: [('airtravel', 28), ('aviation', 19), ('767300er', 17), ('YYZ', 17), ('toronto', 17), ('Airport', 10), ('travel', 10), ('airbus', 8), ('avgeek', 8), ('AeroSpace', 7)], 5: [('airtravel', 39), ('aviation', 27), ('airlines', 14), ('airports', 13), ('coronavirus', 11), ('airportinfrastructure', 10), ('Torabi', 7), ('AdMePlease', 7), ('whatinspiresme', 7), ('767300er', 7)], 6: [('airtravel', 36), ('aviation', 19), ('airports', 14), ('airlines', 12), ('airportinfrastructure', 11), ('Torabi', 10), ('AdMePlease', 10), ('whatinspiresme', 10), ('coronavirus', 9), ('AirTravel', 8)], 7: [('airtravel', 47), ('COVID19', 26), ('coronavirus', 25), ('BREAKING', 22), ('Germanwings', 22), ('BreakingOnRT', 22), ('AirTravel', 11), ('unitedAIRLINES', 5), ('Aviation', 5), ('Airlines', 5)]}\n"
     ]
    }
   ],
   "source": [
    "# Print all most popular tags across the 7 days\n",
    "print(tag_trend)"
   ]
  },
  {
   "cell_type": "markdown",
   "metadata": {},
   "source": [
    "Next, in order to decide which tags were trending over time, as opposed to just popular at the moment, we made a new list that extracted all tags from the tag dictionary and counted how many of those tags repeated on multiple days using the Counter method form the collecitons library. We decided that any tags that were considered most popular and tweeted on at least 3 of the 7 days would be considered trending tags. Printed pelow are the tags that fall into that category."
   ]
  },
  {
   "cell_type": "code",
   "execution_count": 23,
   "metadata": {},
   "outputs": [
    {
     "name": "stdout",
     "output_type": "stream",
     "text": [
      "['airtravel', 'airlines', 'travel', 'COVID19', 'aviation', 'avgeek', 'coronavirus', 'AirTravel']\n"
     ]
    }
   ],
   "source": [
    "# Extract only tags for each day (without number of tweets)\n",
    "just_tags = []\n",
    "for day in tag_trend.items():\n",
    "    day_tags = day[1];\n",
    "    for tag in range(len(day_tags)):\n",
    "        just_tags.append(day_tags[tag][0])\n",
    "        \n",
    "# Find all tags that were tweeted on at least 3 of the 7 days\n",
    "num_days_tweeted = collections.Counter(just_tags) \n",
    "tweeted_most_days = [k for k, v in num_days_tweeted.items() if v > 2]\n",
    "print(tweeted_most_days)"
   ]
  },
  {
   "cell_type": "markdown",
   "metadata": {},
   "source": [
    "To better visualize the trending tags, we plotted wach trading tag with the number of days that tag was tweeted on."
   ]
  },
  {
   "cell_type": "code",
   "execution_count": 24,
   "metadata": {},
   "outputs": [
    {
     "data": {
      "text/plain": [
       "([0, 1, 2, 3, 4, 5, 6, 7], <a list of 8 Text xticklabel objects>)"
      ]
     },
     "execution_count": 24,
     "metadata": {},
     "output_type": "execute_result"
    },
    {
     "data": {
      "image/png": "[encoded data removed]",
      "text/plain": [
       "<Figure size 432x288 with 1 Axes>"
      ]
     },
     "metadata": {
      "needs_background": "light"
     },
     "output_type": "display_data"
    }
   ],
   "source": [
    "# Convert tag ditionary into a list and then a data frame to prepare for plotting\n",
    "num_days_tweeted_list = []\n",
    "for key, value in num_days_tweeted.items():\n",
    "    if value > 2:\n",
    "        temp = [key,value]\n",
    "        num_days_tweeted_list.append(temp)  \n",
    "num_days_tweeted_df = pd.DataFrame(num_days_tweeted_list)\n",
    "\n",
    "# Plot trending tags and the number of days they were trending\n",
    "plt.bar(num_days_tweeted_df[0],num_days_tweeted_df[1])\n",
    "plt.title('Trending Airline and Airport Tags')\n",
    "plt.ylabel('Number of Days Tag Was Tweeted')\n",
    "plt.xlabel('Twitter Hashtag')\n",
    "plt.xticks(rotation='vertical')"
   ]
  },
  {
   "cell_type": "markdown",
   "metadata": {},
   "source": [
    "### Transitioning to NoSQL"
   ]
  },
  {
   "cell_type": "markdown",
   "metadata": {},
   "source": [
    "#### Design Choices"
   ]
  },
  {
   "cell_type": "markdown",
   "metadata": {},
   "source": [
    "In order to convert our database into NoSQL, we first started with the twitter/social media portion. We decided to make all of our tweets a part of one 'tweet' collections, with individual tweets being documents within that collections. Since we didn't normalize tweet data, we did not have to de-normalize it for this assignment. Each tweet document contained all the information about that particular tweet, including the user, the tweet text, hastags, number of retweets, etc. If this were a SQL database, each tweet most likely would've been split across a few tables. For example we would have a table for users and a table for tweets. A foreign key would connect each user with their individual tweets. However, in this NoSQL database, there are no forein keys, so each document contains all the neccessary information about the tweet, including the user. Included below are the steps we took in order to make this transition."
   ]
  },
  {
   "cell_type": "markdown",
   "metadata": {},
   "source": [
    "We first imported libraries neccessary to connect to a MongoDB server."
   ]
  },
  {
   "cell_type": "code",
   "execution_count": 25,
   "metadata": {},
   "outputs": [],
   "source": [
    "import pymongo"
   ]
  },
  {
   "cell_type": "markdown",
   "metadata": {},
   "source": [
    "We then created an Assignment 3 database, and added a collection called tweets. "
   ]
  },
  {
   "cell_type": "code",
   "execution_count": 26,
   "metadata": {},
   "outputs": [],
   "source": [
    "# Connect to a server and create a new database with a collection for tweets\n",
    "client = pymongo.MongoClient('localhost', 27017)\n",
    "db = client['assignment3']\n",
    "tweets=db['tweets']\n",
    "tweets=db.tweets"
   ]
  },
  {
   "cell_type": "markdown",
   "metadata": {},
   "source": [
    "Finally, in order to add all of our tweets in, we first combined them into a larger data frame, and we used the insert_many function in order to add individual tweets in as documents."
   ]
  },
  {
   "cell_type": "code",
   "execution_count": 27,
   "metadata": {},
   "outputs": [
    {
     "data": {
      "text/plain": [
       "<pymongo.results.InsertManyResult at 0x1cd72515ec8>"
      ]
     },
     "execution_count": 27,
     "metadata": {},
     "output_type": "execute_result"
    }
   ],
   "source": [
    "# Combine all tweet data frames and insert them into NoSQL database as individual documents\n",
    "tweet_combo = [airline_tweets,airport_tweets,pilot_tweets]\n",
    "all_tweets = pd.concat(tweet_combo)\n",
    "tweets.insert_many(all_tweets.to_dict('records'))"
   ]
  },
  {
   "cell_type": "markdown",
   "metadata": {},
   "source": [
    "Converting our original data into NoSQL was slightly more challenging since we split all the data up into multiple tables connected through foreign keys (it was a relational database). In order to move over to NoSQL, the data had to be denormalized, so we retracted back by using the original tables we made in Assignment 1, before normalizaiton. We decided to have 2 separate collections, one for flights and one for airports. Our flight collection would have documents about individual flights, which contained information about flight numbers, airport codes, departure and arrival times, and more. The airport collection would have information about top 30 airports in the world, inlcuding their locations, names, ranks, and more. Since you wouldn't have to draw from the airport collection in roder to learn information about individual flights, we decided those two collections were suitable, and wouldn't have to be combined. In other words, each document in each of the collections had all the information in it that was necessary for all the queries and the two collections didn't have to be related to each other as they would be in a normalized relational database."
   ]
  },
  {
   "cell_type": "markdown",
   "metadata": {},
   "source": [
    "To build this model, we started by importing the two tables in using the pandas read_csv function."
   ]
  },
  {
   "cell_type": "code",
   "execution_count": 29,
   "metadata": {},
   "outputs": [
    {
     "data": {
      "text/html": [
       "<div>\n",
       "<style scoped>\n",
       "    .dataframe tbody tr th:only-of-type {\n",
       "        vertical-align: middle;\n",
       "    }\n",
       "\n",
       "    .dataframe tbody tr th {\n",
       "        vertical-align: top;\n",
       "    }\n",
       "\n",
       "    .dataframe thead th {\n",
       "        text-align: right;\n",
       "    }\n",
       "</style>\n",
       "<table border=\"1\" class=\"dataframe\">\n",
       "  <thead>\n",
       "    <tr style=\"text-align: right;\">\n",
       "      <th></th>\n",
       "      <th>flight_id</th>\n",
       "      <th>dep_airport_icao</th>\n",
       "      <th>arrival_airport_icao</th>\n",
       "      <th>airline_icao</th>\n",
       "      <th>departure_time</th>\n",
       "      <th>departure_timezone</th>\n",
       "      <th>arrival_time</th>\n",
       "      <th>arrival_timezone</th>\n",
       "    </tr>\n",
       "  </thead>\n",
       "  <tbody>\n",
       "    <tr>\n",
       "      <td>0</td>\n",
       "      <td>VIR3948</td>\n",
       "      <td>KATL</td>\n",
       "      <td>EHAM</td>\n",
       "      <td>VIR</td>\n",
       "      <td>20:20:00</td>\n",
       "      <td>America/New_York</td>\n",
       "      <td>10:50:00</td>\n",
       "      <td>Europe/Amsterdam</td>\n",
       "    </tr>\n",
       "    <tr>\n",
       "      <td>1</td>\n",
       "      <td>KLM6012</td>\n",
       "      <td>KATL</td>\n",
       "      <td>EHAM</td>\n",
       "      <td>KLM</td>\n",
       "      <td>20:20:00</td>\n",
       "      <td>America/New_York</td>\n",
       "      <td>10:50:00</td>\n",
       "      <td>Europe/Amsterdam</td>\n",
       "    </tr>\n",
       "    <tr>\n",
       "      <td>2</td>\n",
       "      <td>AFR3655</td>\n",
       "      <td>KATL</td>\n",
       "      <td>EHAM</td>\n",
       "      <td>AFR</td>\n",
       "      <td>20:20:00</td>\n",
       "      <td>America/New_York</td>\n",
       "      <td>10:50:00</td>\n",
       "      <td>Europe/Amsterdam</td>\n",
       "    </tr>\n",
       "    <tr>\n",
       "      <td>3</td>\n",
       "      <td>VIR5071</td>\n",
       "      <td>KATL</td>\n",
       "      <td>KDFW</td>\n",
       "      <td>VIR</td>\n",
       "      <td>22:05:00</td>\n",
       "      <td>America/New_York</td>\n",
       "      <td>23:25:00</td>\n",
       "      <td>America/Chicago</td>\n",
       "    </tr>\n",
       "    <tr>\n",
       "      <td>4</td>\n",
       "      <td>KLM6336</td>\n",
       "      <td>KATL</td>\n",
       "      <td>KDFW</td>\n",
       "      <td>KLM</td>\n",
       "      <td>22:05:00</td>\n",
       "      <td>America/New_York</td>\n",
       "      <td>23:25:00</td>\n",
       "      <td>America/Chicago</td>\n",
       "    </tr>\n",
       "  </tbody>\n",
       "</table>\n",
       "</div>"
      ],
      "text/plain": [
       "  flight_id dep_airport_icao arrival_airport_icao airline_icao departure_time  \\\n",
       "0   VIR3948             KATL                 EHAM          VIR       20:20:00   \n",
       "1   KLM6012             KATL                 EHAM          KLM       20:20:00   \n",
       "2   AFR3655             KATL                 EHAM          AFR       20:20:00   \n",
       "3   VIR5071             KATL                 KDFW          VIR       22:05:00   \n",
       "4   KLM6336             KATL                 KDFW          KLM       22:05:00   \n",
       "\n",
       "  departure_timezone arrival_time  arrival_timezone  \n",
       "0   America/New_York     10:50:00  Europe/Amsterdam  \n",
       "1   America/New_York     10:50:00  Europe/Amsterdam  \n",
       "2   America/New_York     10:50:00  Europe/Amsterdam  \n",
       "3   America/New_York     23:25:00   America/Chicago  \n",
       "4   America/New_York     23:25:00   America/Chicago  "
      ]
     },
     "execution_count": 29,
     "metadata": {},
     "output_type": "execute_result"
    }
   ],
   "source": [
    "# Import flight data\n",
    "flights_df = pd.read_csv(r'C:\\Users\\anja\\Documents\\INFO6210\\flights_3.csv')\n",
    "flights_df.head()"
   ]
  },
  {
   "cell_type": "code",
   "execution_count": 30,
   "metadata": {},
   "outputs": [
    {
     "data": {
      "text/html": [
       "<div>\n",
       "<style scoped>\n",
       "    .dataframe tbody tr th:only-of-type {\n",
       "        vertical-align: middle;\n",
       "    }\n",
       "\n",
       "    .dataframe tbody tr th {\n",
       "        vertical-align: top;\n",
       "    }\n",
       "\n",
       "    .dataframe thead th {\n",
       "        text-align: right;\n",
       "    }\n",
       "</style>\n",
       "<table border=\"1\" class=\"dataframe\">\n",
       "  <thead>\n",
       "    <tr style=\"text-align: right;\">\n",
       "      <th></th>\n",
       "      <th>ICAO</th>\n",
       "      <th>IATA</th>\n",
       "      <th>name</th>\n",
       "      <th>city</th>\n",
       "      <th>country</th>\n",
       "      <th>longitude</th>\n",
       "      <th>latitude</th>\n",
       "      <th>altitude</th>\n",
       "      <th>Rank</th>\n",
       "      <th>half_year_count</th>\n",
       "    </tr>\n",
       "  </thead>\n",
       "  <tbody>\n",
       "    <tr>\n",
       "      <td>0</td>\n",
       "      <td>CYYZ</td>\n",
       "      <td>YYZ</td>\n",
       "      <td>Lester B. Pearson International Airport</td>\n",
       "      <td>Toronto</td>\n",
       "      <td>Canada</td>\n",
       "      <td>43.677200</td>\n",
       "      <td>-79.630600</td>\n",
       "      <td>569</td>\n",
       "      <td>30</td>\n",
       "      <td>24463000.0</td>\n",
       "    </tr>\n",
       "    <tr>\n",
       "      <td>1</td>\n",
       "      <td>EDDF</td>\n",
       "      <td>FRA</td>\n",
       "      <td>Frankfurt am Main Airport</td>\n",
       "      <td>Frankfurt</td>\n",
       "      <td>Germany</td>\n",
       "      <td>50.033333</td>\n",
       "      <td>8.570556</td>\n",
       "      <td>364</td>\n",
       "      <td>15</td>\n",
       "      <td>33644000.0</td>\n",
       "    </tr>\n",
       "    <tr>\n",
       "      <td>2</td>\n",
       "      <td>EGLL</td>\n",
       "      <td>LHR</td>\n",
       "      <td>London Heathrow Airport</td>\n",
       "      <td>London</td>\n",
       "      <td>United Kingdom</td>\n",
       "      <td>51.470600</td>\n",
       "      <td>-0.461941</td>\n",
       "      <td>83</td>\n",
       "      <td>7</td>\n",
       "      <td>38750000.0</td>\n",
       "    </tr>\n",
       "    <tr>\n",
       "      <td>3</td>\n",
       "      <td>EHAM</td>\n",
       "      <td>AMS</td>\n",
       "      <td>Amsterdam Airport Schiphol</td>\n",
       "      <td>Amsterdam</td>\n",
       "      <td>Netherlands</td>\n",
       "      <td>52.308601</td>\n",
       "      <td>4.763890</td>\n",
       "      <td>-11</td>\n",
       "      <td>14</td>\n",
       "      <td>34537000.0</td>\n",
       "    </tr>\n",
       "    <tr>\n",
       "      <td>4</td>\n",
       "      <td>LEBL</td>\n",
       "      <td>BCN</td>\n",
       "      <td>Barcelona International Airport</td>\n",
       "      <td>Barcelona</td>\n",
       "      <td>Spain</td>\n",
       "      <td>41.297100</td>\n",
       "      <td>2.078460</td>\n",
       "      <td>12</td>\n",
       "      <td>29</td>\n",
       "      <td>24821000.0</td>\n",
       "    </tr>\n",
       "  </tbody>\n",
       "</table>\n",
       "</div>"
      ],
      "text/plain": [
       "   ICAO IATA                                     name       city  \\\n",
       "0  CYYZ  YYZ  Lester B. Pearson International Airport    Toronto   \n",
       "1  EDDF  FRA                Frankfurt am Main Airport  Frankfurt   \n",
       "2  EGLL  LHR                  London Heathrow Airport     London   \n",
       "3  EHAM  AMS               Amsterdam Airport Schiphol  Amsterdam   \n",
       "4  LEBL  BCN          Barcelona International Airport  Barcelona   \n",
       "\n",
       "          country  longitude   latitude  altitude  Rank  half_year_count  \n",
       "0          Canada  43.677200 -79.630600       569    30       24463000.0  \n",
       "1         Germany  50.033333   8.570556       364    15       33644000.0  \n",
       "2  United Kingdom  51.470600  -0.461941        83     7       38750000.0  \n",
       "3     Netherlands  52.308601   4.763890       -11    14       34537000.0  \n",
       "4           Spain  41.297100   2.078460        12    29       24821000.0  "
      ]
     },
     "execution_count": 30,
     "metadata": {},
     "output_type": "execute_result"
    }
   ],
   "source": [
    "# Import flight data\n",
    "airports_df = pd.read_csv(r'C:\\Users\\anja\\Documents\\INFO6210\\top_airports_3.csv')\n",
    "airports_df.head()"
   ]
  },
  {
   "cell_type": "markdown",
   "metadata": {},
   "source": [
    "Next, we added two collections to our database, and used the indert_many function to once again move the data over from a dataframe into our collections."
   ]
  },
  {
   "cell_type": "code",
   "execution_count": 31,
   "metadata": {},
   "outputs": [
    {
     "data": {
      "text/plain": [
       "<pymongo.results.InsertManyResult at 0x1cd72034348>"
      ]
     },
     "execution_count": 31,
     "metadata": {},
     "output_type": "execute_result"
    }
   ],
   "source": [
    "# Create and populate flight collection\n",
    "flights_col=db['flights']\n",
    "flights=db.flights_col\n",
    "flights.insert_many(flights_df.to_dict('records'))\n",
    "\n",
    "# Create and populate airport collection\n",
    "airports_col=db['airports']\n",
    "airports=db.airports_col\n",
    "airports.insert_many(airports_df.to_dict('records'))"
   ]
  },
  {
   "cell_type": "markdown",
   "metadata": {},
   "source": [
    "#### Demonstrating Retrieval of Data"
   ]
  },
  {
   "cell_type": "markdown",
   "metadata": {},
   "source": [
    "To demonstrate the functionality of our new database, below are some use cases from our previous assignments that show how data can be extracted from each of the three collections using NoSQL queries."
   ]
  },
  {
   "cell_type": "markdown",
   "metadata": {},
   "source": [
    "##### Use-Case Example 1\n",
    "\n",
    "In this use-case, find_one() function is used to look at a single document from each of the colletions. "
   ]
  },
  {
   "cell_type": "code",
   "execution_count": 33,
   "metadata": {},
   "outputs": [
    {
     "data": {
      "text/plain": [
       "{'_id': ObjectId('5e8e7a166c2a8d638e4c84c7'),\n",
       " 'ICAO': 'CYYZ',\n",
       " 'IATA': 'YYZ',\n",
       " 'name': 'Lester B. Pearson International Airport',\n",
       " 'city': 'Toronto',\n",
       " 'country': 'Canada',\n",
       " 'longitude': 43.67720032,\n",
       " 'latitude': -79.63059998,\n",
       " 'altitude': 569,\n",
       " 'Rank': 30,\n",
       " 'half_year_count': 24463000.0}"
      ]
     },
     "execution_count": 33,
     "metadata": {},
     "output_type": "execute_result"
    }
   ],
   "source": [
    "# Inspecting an airport document\n",
    "airports.find_one()"
   ]
  },
  {
   "cell_type": "code",
   "execution_count": 39,
   "metadata": {},
   "outputs": [
    {
     "data": {
      "text/plain": [
       "{'_id': ObjectId('5e8e7a166c2a8d638e4c8498'),\n",
       " 'flight_id': 'VIR3948',\n",
       " 'dep_airport_icao': 'KATL',\n",
       " 'arrival_airport_icao': 'EHAM',\n",
       " 'airline_icao': 'VIR',\n",
       " 'departure_time': '20:20:00',\n",
       " 'departure_timezone': 'America/New_York',\n",
       " 'arrival_time': '10:50:00',\n",
       " 'arrival_timezone': 'Europe/Amsterdam'}"
      ]
     },
     "execution_count": 39,
     "metadata": {},
     "output_type": "execute_result"
    }
   ],
   "source": [
    "# Inspecting a flight document\n",
    "flights.find_one()"
   ]
  },
  {
   "cell_type": "markdown",
   "metadata": {},
   "source": [
    "##### Use-Case Example 2\n",
    "\n",
    "In this use-case, a NoSQL Query is used to find names of all airports that are in the top 30 airport list and located in the United States, all sorted by their rank in an ascending order."
   ]
  },
  {
   "cell_type": "code",
   "execution_count": 79,
   "metadata": {},
   "outputs": [
    {
     "name": "stdout",
     "output_type": "stream",
     "text": [
      "['Hartsfield Jackson Atlanta International Airport', 'Los Angeles International Airport', \"Chicago O'Hare International Airport\", 'Dallas Fort Worth International Airport', 'Denver International Airport', 'John F Kennedy International Airport', 'San Francisco International Airport', 'Orlando International Airport', 'McCarran International Airport']\n"
     ]
    }
   ],
   "source": [
    "# Query to find ailines flying from Atlanta to JFK that depart at 21:43\n",
    "TopUSAirports=[]\n",
    "for tt in airports.find({\"country\": \"United States\"}).sort(\"Rank\",1):\n",
    "    TopUSAirports.append(tt[\"name\"])\n",
    "    \n",
    "# Print results of query\n",
    "print(list(dict.fromkeys(TopUSAirports)))"
   ]
  },
  {
   "cell_type": "markdown",
   "metadata": {},
   "source": [
    "##### Use-Case Example 3\n",
    "\n",
    "In this use-case, a NoSQL Query is used to find all airlines that are offering flights from the Atlanta Airport to New York's JFK. "
   ]
  },
  {
   "cell_type": "code",
   "execution_count": 77,
   "metadata": {},
   "outputs": [
    {
     "name": "stdout",
     "output_type": "stream",
     "text": [
      "{'AZA', 'VIR', 'CSN', 'KAL', 'AMX'}\n"
     ]
    }
   ],
   "source": [
    "# Query to find ailines flying from Atlanta to JFK that depart at 21:43\n",
    "ATLtoJFK=[]\n",
    "for tt in flights.find({\"dep_airport_icao\": \"KATL\",\"arrival_airport_icao\": \"KJFK\",\"departure_time\":\"21:43:00\"}):\n",
    "    ATLtoJFK.append(tt[\"airline_icao\"])\n",
    "    \n",
    "# Print results of query\n",
    "print(set(ATLtoJFK))"
   ]
  },
  {
   "cell_type": "markdown",
   "metadata": {},
   "source": [
    "##### Use-Case Example 4\n",
    "\n",
    "In this use-case, count() is used to create a query to count the number of tweets that have more than 10 favorites. "
   ]
  },
  {
   "cell_type": "code",
   "execution_count": 90,
   "metadata": {},
   "outputs": [
    {
     "name": "stdout",
     "output_type": "stream",
     "text": [
      "49\n"
     ]
    },
    {
     "name": "stderr",
     "output_type": "stream",
     "text": [
      "C:\\Users\\anja\\Anaconda3\\lib\\site-packages\\ipykernel_launcher.py:2: DeprecationWarning: count is deprecated. Use Collection.count_documents instead.\n",
      "  \n"
     ]
    }
   ],
   "source": [
    "# Query to find ailines flying from Atlanta to JFK that depart at 21:43\n",
    "fav_tweets = tweets.find({\"Favorites\": {\"$gt\": 10 }}).count()\n",
    "print(fav_tweets)"
   ]
  },
  {
   "cell_type": "markdown",
   "metadata": {},
   "source": [
    "### REPORT\n",
    "\n",
    "Through this assignment, we have written and used functions like get_tweets(), get_hashtags() and get_similar_users()to fetch data and attributes from the data via the \"Tweepy\" Twitter API package, after aggregating the popular and usefull data from the raw tweets, we have used the \"PyMongo\" package to load our python code onto the MongoDB framework. \n",
    "\n",
    "\n",
    "Questions:\n",
    "\n",
    "What are tags are associated with a person, place or thing?\n",
    "We determined the tags associated with each of our data frames using a function to extract tags from our raw data. The get_hashtags function loops through every row of the dataframe and looks at the 'Hashtag' column. Since some tweets have multiple tags, the function splits them up and replaces or removes all the blank spots. Each tag is then added to the overall list of tags and sent back.\n",
    "The place, thing and person for our database are airport, airline and pilot respectively.\n",
    "\n",
    "\n",
    "What social media users are like other social media users in your domain?\n",
    "We have obtained the similar users using the get_similar_users function. This function takes in the data frame with all the tweet information and finds all users that tweeted using that particular tag. This is done by looping through all the tags, and any time the desired tag is found, the user that made that tweet is added to the list of similar users. This way, all users that tweet about a particular topic and use its specific tag are deemed to be similar.\n",
    "\n",
    "\n",
    "What people, places or things are popular in your domain?\n",
    "We have obtained the most popular items in each domain using the function called popular_tags. This function usede the Counter method from the collections library to get a list of each tag used, accompanied by how many times it was used. It then uses the most_common method to extract the top 10 tags and print the tags (as well as the number of times they were used). This enabled us to see what topics were most popular for each set of tweets.\n",
    "\n",
    "Populart Places and Things\n",
    "AmericanAirlines, 33\n",
    "B757, 8\n",
    "americanairlines, 4\n",
    "refund, 4\n",
    "insurance, 4\n",
    "Paramedic, 4\n",
    "Stock, 3\n",
    "NewYork, 3\n",
    "COVID19, 3\n",
    "Boeing, 3\n",
    "\n",
    "To get most popular people in the domain, we created a function called popular_user. This function gets all usernames and their associated popularity (calculated by adding up the number of retweets and favorites). Then, it finds the top 3 users and prints their name as well as popularity (sum of retweets and favorites for a single tweet).\n",
    "Using these 2 functions, we were able to determine the most popular people, places, and things.\n",
    "\n",
    "\n",
    "Popular Users\n",
    "User: lantech19, Popularity: 10\n",
    "User: AMERICA_PARTII, Popularity: 10\n",
    "User: victorio_bdx, Popularity: 14\n",
    "User: sammy_palmerrr, Popularity: 929\n",
    "User: tothanines, Popularity: 929\n",
    "\n",
    "\n",
    "What people, places or things are trending in your domain? (A trend is popularity over time.)\n",
    "To get trending things in our domain, we collected data over 7 days and used a function we wrote to find which tags were both popular and tweeted across multiple days. Based on our data, we decided the trending topics are:\n",
    "['airtravel', 'airlines', 'travel', 'COVID19', 'aviation', 'avgeek', 'coronavirus', 'AirTravel']\n",
    "\n",
    "\n",
    "Additionally, summarized throughout the report is our procedure and design decisions we made as we converted into NoSQL, as well as som euse cases covered in previous assignments but converted into NoSQL."
   ]
  },
  {
   "cell_type": "markdown",
   "metadata": {},
   "source": [
    "### CONCLUSION\n",
    "\n",
    "The primary focus of this assignment was learning how to analyze social media data, as well as convert a SQL/relational database into a NoSQL database (MongoDB, specifically). We expanded upon our database from Assignment 2 by adding twitter data to it, and analyzing it in order to answer questions about popular topic within our domain. We then converted our database into MongoDB by first denormalizing it, and then establishing a connection with a MongoDB server and transfering over our data."
   ]
  },
  {
   "cell_type": "markdown",
   "metadata": {},
   "source": [
    "### CONTRIBUTION\n",
    "On our own: 60% (wrote all of our functions used throughout the report)\n",
    "\n",
    "External Sources: 40% (resources for syntax and converting to MongoDB, listed in Citation section below)"
   ]
  },
  {
   "cell_type": "markdown",
   "metadata": {},
   "source": [
    "### CITATIONS\n",
    "\n",
    "https://developer.twitter.com/en/docs/tweets/search/api-reference/get-search-tweets (Twitter API Documentation- help with collecting Twitter data)\n",
    "\n",
    "https://docs.mongodb.com/manual/reference/ (MondoDB in Python reference)\n",
    "\n",
    "https://www.tutorialspoint.com/python/python_dictionary.htm (Python dictionaries)\n",
    "\n",
    "https://www.w3schools.com/python/python_mongodb_getstarted.asp (Python MongoDB reference)\n",
    "\n",
    "https://www.youtube.com/watch?v=FwMwO8pXfq0 (Installing MongoDB reference)\n",
    "\n",
    "https://www.w3schools.com/python/python_mongodb_create_collection.asp (Creating MongoDB collections)\n",
    "\n",
    "https://docs.mongodb.com/manual/core/databases-and-collections/ (Collection and document MongoDB reference)\n"
   ]
  },
  {
   "cell_type": "markdown",
   "metadata": {},
   "source": [
    "### LICENSE\n",
    "Copyright 2020 Anja Deric, Karan Soni\n",
    "\n",
    "Permission is hereby granted, free of charge, to any person obtaining a copy of this software and associated \n",
    "documentation files (the \"Software\"), to deal in the Software without restriction, including without limitation the \n",
    "rights to use, copy, modify, merge, publish, distribute, sublicense, and/or sell copies of the Software, and to permit\n",
    "persons to whom the Software is furnished to do so, subject to the following conditions:\n",
    "\n",
    "The above copyright notice and this permission notice shall be included in all copies or substantial portions of the \n",
    "Software.\n",
    "\n",
    "THE SOFTWARE IS PROVIDED \"AS IS\", WITHOUT WARRANTY OF ANY KIND, EXPRESS OR IMPLIED, INCLUDING BUT NOT LIMITED TO THE \n",
    "WARRANTIES OF MERCHANTABILITY, FITNESS FOR A PARTICULAR PURPOSE AND NONINFRINGEMENT. IN NO EVENT SHALL THE AUTHORS OR \n",
    "COPYRIGHT HOLDERS BE LIABLE FOR ANY CLAIM, DAMAGES OR OTHER LIABILITY, WHETHER IN AN ACTION OF CONTRACT, TORT OR \n",
    "OTHERWISE, ARISING FROM, OUT OF OR IN CONNECTION WITH THE SOFTWARE OR THE USE OR OTHER DEALINGS IN THE SOFTWARE."
   ]
  }
 ],
 "metadata": {
  "anaconda-cloud": {},
  "kernelspec": {
   "display_name": "Python 3",
   "language": "python",
   "name": "python3"
  },
  "language_info": {
   "codemirror_mode": {
    "name": "ipython",
    "version": 3
   },
   "file_extension": ".py",
   "mimetype": "text/x-python",
   "name": "python",
   "nbconvert_exporter": "python",
   "pygments_lexer": "ipython3",
   "version": "3.7.4"
  }
 },
 "nbformat": 4,
 "nbformat_minor": 2
}
